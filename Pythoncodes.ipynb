{
 "cells": [
  {
   "cell_type": "code",
   "execution_count": null,
   "id": "ffa32538-55d9-4eb0-9787-ee1ab545c46d",
   "metadata": {},
   "outputs": [],
   "source": [
    "#first python program\n"
   ]
  },
  {
   "cell_type": "code",
   "execution_count": 5,
   "id": "feb9f7f5-a625-45ed-87d4-7ba07263bf18",
   "metadata": {},
   "outputs": [
    {
     "name": "stdout",
     "output_type": "stream",
     "text": [
      "Hello World!\n"
     ]
    }
   ],
   "source": [
    "print (\"Hello World!\")\n"
   ]
  },
  {
   "cell_type": "code",
   "execution_count": null,
   "id": "350828a8-3f8a-4c46-9b4a-92ef2be34267",
   "metadata": {},
   "outputs": [],
   "source": []
  },
  {
   "cell_type": "code",
   "execution_count": null,
   "id": "45935f12-a551-4c6e-bc96-cc21c749e384",
   "metadata": {},
   "outputs": [],
   "source": [
    "Pythonn identifiers"
   ]
  },
  {
   "cell_type": "code",
   "execution_count": 41,
   "id": "447c837a-bd9b-4299-b621-6e5160508764",
   "metadata": {},
   "outputs": [
    {
     "ename": "NameError",
     "evalue": "name 'file_name' is not defined",
     "output_type": "error",
     "traceback": [
      "\u001b[1;31m---------------------------------------------------------------------------\u001b[0m",
      "\u001b[1;31mNameError\u001b[0m                                 Traceback (most recent call last)",
      "Cell \u001b[1;32mIn[41], line 2\u001b[0m\n\u001b[0;32m      1\u001b[0m \u001b[38;5;66;03m# open file stream\u001b[39;00m\n\u001b[1;32m----> 2\u001b[0m file \u001b[38;5;241m=\u001b[39m \u001b[38;5;28mopen\u001b[39m(file_name, \u001b[38;5;124m\"\u001b[39m\u001b[38;5;124mw\u001b[39m\u001b[38;5;124m\"\u001b[39m)\n\u001b[0;32m      3\u001b[0m \u001b[38;5;28mprint\u001b[39m (\u001b[38;5;124m\"\u001b[39m\u001b[38;5;124mThere was an error writing to\u001b[39m\u001b[38;5;124m\"\u001b[39m), file_name\n\u001b[0;32m      4\u001b[0m sys\u001b[38;5;241m.\u001b[39mexit()\n",
      "\u001b[1;31mNameError\u001b[0m: name 'file_name' is not defined"
     ]
    }
   ],
   "source": [
    " # open file stream\n",
    " file = open(file_name, \"w\")\n",
    "print (\"There was an error writing to\"), file_name\n",
    " sys.exit()\n",
    "print (\"Enter \"), file_finish,\n",
    "print (\" When finished\")\n",
    "while file_text != file_finish:\n",
    "     file_text = raw_input(\"Enter text: \")\n",
    "     if file_text == file_finish:\n",
    " # close the file\n",
    "         file.close\n",
    " break\n",
    " file.write(file_text)\n",
    " file.write(\"\\n\")\n",
    "file.close()\n",
    "file_name = raw_input(\"Enter filename: \")\n",
    "if len(file_name) == 0:\n",
    "     print (\"Next time please enter something\")\n",
    " sys.exit()"
   ]
  },
  {
   "cell_type": "code",
   "execution_count": null,
   "id": "945ec9eb-65f2-47eb-8b27-247c2bad3abd",
   "metadata": {},
   "outputs": [],
   "source": []
  },
  {
   "cell_type": "code",
   "execution_count": null,
   "id": "4466bb5a-c7ec-446f-b7d7-6cf28b3e56b0",
   "metadata": {},
   "outputs": [],
   "source": [
    "#quotations "
   ]
  },
  {
   "cell_type": "code",
   "execution_count": 45,
   "id": "4469583b-8576-44ba-91cd-137b45a74bf1",
   "metadata": {},
   "outputs": [
    {
     "name": "stdout",
     "output_type": "stream",
     "text": [
      "word\n",
      "This is a sentence.\n",
      "This is a paragraph. It ismade up of multiple lines and sentences.\n"
     ]
    }
   ],
   "source": [
    "word = 'word'\n",
    "print (word)\n",
    "sentence = \"This is a sentence.\"\n",
    "print (sentence)\n",
    "paragraph = \"\"\"This is a paragraph. It is\n",
    "made up of multiple lines and sentences.\"\"\"\n",
    "print (paragraph)"
   ]
  },
  {
   "cell_type": "code",
   "execution_count": null,
   "id": "e90e835e-46c9-49c7-a215-5ed512389950",
   "metadata": {},
   "outputs": [],
   "source": []
  },
  {
   "cell_type": "code",
   "execution_count": null,
   "id": "3b65e8f8-0b2a-49b6-8e5b-a1a072d14d65",
   "metadata": {},
   "outputs": [],
   "source": [
    "#python variables"
   ]
  },
  {
   "cell_type": "code",
   "execution_count": 47,
   "id": "de9965e3-3c7e-48b8-8189-7cc41ba44d42",
   "metadata": {},
   "outputs": [
    {
     "name": "stdout",
     "output_type": "stream",
     "text": [
      "100\n",
      "1000.0\n",
      "Zara Ali\n"
     ]
    }
   ],
   "source": [
    "counter = 100 # Creates an integer variable\n",
    "miles = 1000.0 # Creates a floating point variable\n",
    "name = \"Zara Ali\" # Creates a string variable\n",
    "print (counter)\n",
    "print (miles)\n",
    "print (name)\n"
   ]
  },
  {
   "cell_type": "code",
   "execution_count": null,
   "id": "0144892b-e9f3-41a7-9940-c0561cde3782",
   "metadata": {},
   "outputs": [],
   "source": []
  },
  {
   "cell_type": "code",
   "execution_count": null,
   "id": "7ad34366-b66e-415a-add5-97b00a06c2f8",
   "metadata": {},
   "outputs": [],
   "source": [
    "#deleeting variables"
   ]
  },
  {
   "cell_type": "code",
   "execution_count": 49,
   "id": "a541567b-fa48-4c7c-a9fa-ecd39352375a",
   "metadata": {},
   "outputs": [
    {
     "name": "stdout",
     "output_type": "stream",
     "text": [
      "100\n"
     ]
    },
    {
     "ename": "NameError",
     "evalue": "name 'counter' is not defined",
     "output_type": "error",
     "traceback": [
      "\u001b[1;31m---------------------------------------------------------------------------\u001b[0m",
      "\u001b[1;31mNameError\u001b[0m                                 Traceback (most recent call last)",
      "Cell \u001b[1;32mIn[49], line 4\u001b[0m\n\u001b[0;32m      2\u001b[0m \u001b[38;5;28mprint\u001b[39m (counter)\n\u001b[0;32m      3\u001b[0m \u001b[38;5;28;01mdel\u001b[39;00m counter\n\u001b[1;32m----> 4\u001b[0m \u001b[38;5;28mprint\u001b[39m (counter)\n",
      "\u001b[1;31mNameError\u001b[0m: name 'counter' is not defined"
     ]
    }
   ],
   "source": [
    "counter = 100\n",
    "print (counter)\n",
    "del counter\n",
    "print (counter)"
   ]
  },
  {
   "cell_type": "code",
   "execution_count": null,
   "id": "a02d8f11-9738-42ec-aa0c-56e55af73098",
   "metadata": {},
   "outputs": [],
   "source": []
  },
  {
   "cell_type": "code",
   "execution_count": null,
   "id": "b0957330-addc-44e6-9726-afb704821b37",
   "metadata": {},
   "outputs": [],
   "source": [
    "#printing variable types"
   ]
  },
  {
   "cell_type": "code",
   "execution_count": 51,
   "id": "3565ea19-af44-4a8f-b1d2-684885b99894",
   "metadata": {},
   "outputs": [
    {
     "name": "stdout",
     "output_type": "stream",
     "text": [
      "<class 'str'>\n",
      "<class 'int'>\n",
      "<class 'float'>\n"
     ]
    }
   ],
   "source": [
    "x = \"Zara\"\n",
    "y = 10\n",
    "z = 10.10\n",
    "print(type(x))\n",
    "print(type(y))\n",
    "print(type(z))\n"
   ]
  },
  {
   "cell_type": "code",
   "execution_count": null,
   "id": "b04ae19e-9238-407e-9ac8-ca9797b17e32",
   "metadata": {},
   "outputs": [],
   "source": []
  },
  {
   "cell_type": "code",
   "execution_count": 53,
   "id": "e0637859-9473-473e-bf0f-1553abf0192c",
   "metadata": {},
   "outputs": [
    {
     "name": "stdout",
     "output_type": "stream",
     "text": [
      "x = 10\n",
      "y = 10\n",
      "z = 10.0\n"
     ]
    }
   ],
   "source": [
    "x = str(10) # x will be '10'\n",
    "y = int(10) # y will be 10\n",
    "z = float(10) # z will be 10.0\n",
    "print( \"x =\", x )\n",
    "print( \"y =\", y )\n",
    "print( \"z =\", z )"
   ]
  },
  {
   "cell_type": "code",
   "execution_count": null,
   "id": "912f9a12-8d5d-4959-80ef-4500e897316b",
   "metadata": {},
   "outputs": [],
   "source": []
  },
  {
   "cell_type": "code",
   "execution_count": null,
   "id": "0a07d41a-8dfb-45e4-83ac-d894f665643b",
   "metadata": {},
   "outputs": [],
   "source": [
    "#case sensitivity"
   ]
  },
  {
   "cell_type": "code",
   "execution_count": 55,
   "id": "44863291-0b97-40f7-9753-20b50cc43cf1",
   "metadata": {},
   "outputs": [
    {
     "name": "stdout",
     "output_type": "stream",
     "text": [
      "age = 20\n",
      "Age = 30\n"
     ]
    }
   ],
   "source": [
    "age = 20\n",
    "Age = 30\n",
    "print( \"age =\", age )\n",
    "print( \"Age =\", Age )"
   ]
  },
  {
   "cell_type": "code",
   "execution_count": null,
   "id": "0ccabdb8-a759-4a36-a522-843b35386d17",
   "metadata": {},
   "outputs": [],
   "source": []
  },
  {
   "cell_type": "code",
   "execution_count": null,
   "id": "929be9ce-ade0-4379-b8c9-b5073ce8ee89",
   "metadata": {},
   "outputs": [],
   "source": [
    "#assignments"
   ]
  },
  {
   "cell_type": "code",
   "execution_count": 57,
   "id": "27562709-7213-499c-99f5-c19189ca590d",
   "metadata": {},
   "outputs": [
    {
     "name": "stdout",
     "output_type": "stream",
     "text": [
      "100\n",
      "100\n",
      "100\n"
     ]
    }
   ],
   "source": [
    "a = b = c = 100\n",
    "print (a)\n",
    "print (b)\n",
    "print (c)"
   ]
  },
  {
   "cell_type": "code",
   "execution_count": null,
   "id": "e74d69a4-cd4b-4ebe-ab3e-52278ca131cb",
   "metadata": {},
   "outputs": [],
   "source": []
  },
  {
   "cell_type": "code",
   "execution_count": 60,
   "id": "6ff39910-66b1-4b86-bfb7-f73d205e4962",
   "metadata": {},
   "outputs": [
    {
     "name": "stdout",
     "output_type": "stream",
     "text": [
      "1\n",
      "2\n",
      "Zara Ali\n"
     ]
    }
   ],
   "source": [
    "a,b,c = 1,2,\"Zara Ali\"\n",
    "print (a)\n",
    "print (b)\n",
    "print (c)"
   ]
  },
  {
   "cell_type": "code",
   "execution_count": null,
   "id": "32a24e9f-ff2c-4782-8f85-4dfa7d4c9800",
   "metadata": {},
   "outputs": [],
   "source": []
  },
  {
   "cell_type": "code",
   "execution_count": null,
   "id": "7117a4ae-1f5f-4b36-9375-f249061be575",
   "metadata": {},
   "outputs": [],
   "source": [
    "#python variable names"
   ]
  },
  {
   "cell_type": "code",
   "execution_count": 62,
   "id": "e7db0cef-d096-435f-b9be-d605b6a82f03",
   "metadata": {},
   "outputs": [
    {
     "name": "stdout",
     "output_type": "stream",
     "text": [
      "100\n",
      "100\n",
      "Zara\n",
      "Nuha\n",
      "20\n",
      "100000\n"
     ]
    }
   ],
   "source": [
    "counter = 100\n",
    "_count = 100\n",
    "name1 = \"Zara\"\n",
    "name2 = \"Nuha\"\n",
    "Age = 20\n",
    "zara_salary = 100000\n",
    "print (counter)\n",
    "print (_count)\n",
    "print (name1)\n",
    "print (name2)\n",
    "print (Age)\n",
    "print (zara_salary)"
   ]
  },
  {
   "cell_type": "code",
   "execution_count": null,
   "id": "9f586584-620e-40d7-a737-f0b6c8cc7c43",
   "metadata": {},
   "outputs": [],
   "source": []
  },
  {
   "cell_type": "code",
   "execution_count": null,
   "id": "76d3ea2f-6648-418a-9391-8717e3b74070",
   "metadata": {},
   "outputs": [],
   "source": [
    "#local variables"
   ]
  },
  {
   "cell_type": "code",
   "execution_count": 64,
   "id": "a639976a-f126-4aa9-8e56-2e06ac3557f6",
   "metadata": {},
   "outputs": [
    {
     "name": "stdout",
     "output_type": "stream",
     "text": [
      "15\n"
     ]
    }
   ],
   "source": [
    "def sum(x,y):\n",
    " sum = x + y\n",
    " return sum\n",
    "print(sum(5, 10))"
   ]
  },
  {
   "cell_type": "code",
   "execution_count": null,
   "id": "981d69a8-5a76-4a79-9753-e75c6de40fb3",
   "metadata": {},
   "outputs": [],
   "source": []
  },
  {
   "cell_type": "code",
   "execution_count": null,
   "id": "7b707ac4-5798-4aca-9222-b25adc8628f6",
   "metadata": {},
   "outputs": [],
   "source": [
    "#global variables"
   ]
  },
  {
   "cell_type": "code",
   "execution_count": 66,
   "id": "2added82-eeaa-4091-9ab6-5988a70eae2c",
   "metadata": {},
   "outputs": [
    {
     "name": "stdout",
     "output_type": "stream",
     "text": [
      "15\n"
     ]
    }
   ],
   "source": [
    "x = 5\n",
    "y = 10\n",
    "def sum():\n",
    " sum = x + y\n",
    " return sum\n",
    "print(sum())\n"
   ]
  },
  {
   "cell_type": "code",
   "execution_count": null,
   "id": "65b94401-24b5-4a6c-a25a-ce4a6d61e16f",
   "metadata": {},
   "outputs": [],
   "source": []
  },
  {
   "cell_type": "code",
   "execution_count": null,
   "id": "5336d919-5934-4956-9b6d-07b4acf3cdde",
   "metadata": {},
   "outputs": [],
   "source": [
    "# if statements"
   ]
  },
  {
   "cell_type": "code",
   "execution_count": 39,
   "id": "49c55532-e7f8-4151-9ca7-b3db0e850fff",
   "metadata": {},
   "outputs": [
    {
     "name": "stdout",
     "output_type": "stream",
     "text": [
      "Passed with distinction\n"
     ]
    }
   ],
   "source": [
    "marks = 80\n",
    "result = \"\"\n",
    "if marks < 30:\n",
    "     result = \"Failed\"\n",
    "if marks > 75:\n",
    "     result = \"Passed with distinction\"\n",
    "else:\n",
    "     result = \"Passed\"\n",
    "print(result)"
   ]
  },
  {
   "cell_type": "code",
   "execution_count": null,
   "id": "22076ed3-f737-4490-beab-ca7a0fd645cd",
   "metadata": {},
   "outputs": [],
   "source": []
  },
  {
   "cell_type": "code",
   "execution_count": null,
   "id": "310b54ac-931e-4d26-aa6c-f69b15d4bd6e",
   "metadata": {},
   "outputs": [],
   "source": [
    "#match statement"
   ]
  },
  {
   "cell_type": "code",
   "execution_count": 45,
   "id": "7f5f6d5e-59d5-4dd9-ba82-19eae316e736",
   "metadata": {},
   "outputs": [
    {
     "name": "stdout",
     "output_type": "stream",
     "text": [
      "Vowel alphabet\n",
      "Simple alphabet\n",
      "Vowel alphabet\n"
     ]
    }
   ],
   "source": [
    "def checkVowel(n):\n",
    " match n:\n",
    "     case 'a': return \"Vowel alphabet\"\n",
    "     case 'e': return \"Vowel alphabet\"\n",
    "     case 'i': return \"Vowel alphabet\"\n",
    "     case 'o': return \"Vowel alphabet\"\n",
    "     case 'u': return \"Vowel alphabet\"\n",
    "     case _: return \"Simple alphabet\"\n",
    "print (checkVowel('a'))\n",
    "print (checkVowel('m'))\n",
    "print (checkVowel('o'))"
   ]
  },
  {
   "cell_type": "code",
   "execution_count": null,
   "id": "1e0737e6-ad53-42b5-89ac-b71c7948c76e",
   "metadata": {},
   "outputs": [],
   "source": []
  },
  {
   "cell_type": "code",
   "execution_count": null,
   "id": "b09f3ac0-9b83-46ae-a5cd-7f6c0118c44f",
   "metadata": {},
   "outputs": [],
   "source": [
    "#LOOPS"
   ]
  },
  {
   "cell_type": "code",
   "execution_count": null,
   "id": "22d1765a-4f55-4a0d-88fc-52433c53f6fb",
   "metadata": {},
   "outputs": [],
   "source": [
    "#for loops"
   ]
  },
  {
   "cell_type": "code",
   "execution_count": 47,
   "id": "19a9ddd7-78b1-4f50-8847-456b06bd3d41",
   "metadata": {},
   "outputs": [
    {
     "name": "stdout",
     "output_type": "stream",
     "text": [
      "one\n",
      "two\n",
      "three\n"
     ]
    }
   ],
   "source": [
    "words = [\"one\", \"two\", \"three\"]\n",
    "for x in words:\n",
    " print(x)"
   ]
  },
  {
   "cell_type": "code",
   "execution_count": null,
   "id": "29aaa2ee-184e-4150-bde4-bca9de2d9168",
   "metadata": {},
   "outputs": [],
   "source": []
  },
  {
   "cell_type": "code",
   "execution_count": null,
   "id": "4df4795a-5e85-4c8e-a015-1579a27cdd12",
   "metadata": {},
   "outputs": [],
   "source": [
    "#while loop"
   ]
  },
  {
   "cell_type": "code",
   "execution_count": 49,
   "id": "23fe374d-893f-4a20-a423-2e8a470c41d6",
   "metadata": {},
   "outputs": [
    {
     "name": "stdout",
     "output_type": "stream",
     "text": [
      "1\n",
      "2\n",
      "3\n",
      "4\n",
      "5\n"
     ]
    }
   ],
   "source": [
    "i = 1\n",
    "while i < 6:\n",
    " print(i)\n",
    " i += 1\n"
   ]
  },
  {
   "cell_type": "code",
   "execution_count": null,
   "id": "fd949295-59eb-4020-a641-36cf32a8a19e",
   "metadata": {},
   "outputs": [],
   "source": []
  },
  {
   "cell_type": "code",
   "execution_count": null,
   "id": "31f02ee4-ada4-4ed8-a3ea-ae210a59f43f",
   "metadata": {},
   "outputs": [],
   "source": [
    "#JUMP STATEMENTS"
   ]
  },
  {
   "cell_type": "code",
   "execution_count": null,
   "id": "14fcb915-b86d-4206-9943-8afca5136d1c",
   "metadata": {},
   "outputs": [],
   "source": [
    " ##break"
   ]
  },
  {
   "cell_type": "code",
   "execution_count": 1,
   "id": "098912c2-88c0-495c-ae66-52a053aa186a",
   "metadata": {},
   "outputs": [
    {
     "name": "stdout",
     "output_type": "stream",
     "text": [
      "x: 0\n",
      "x: 1\n",
      "x: 2\n",
      "x: 3\n",
      "x: 4\n",
      "x: 5\n",
      "Breaking...\n",
      "End\n"
     ]
    }
   ],
   "source": [
    "x = 0\n",
    "while x < 10:\n",
    "    print(\"x:\", x)\n",
    "    if x == 5:\n",
    "        print(\"Breaking...\")\n",
    "        break\n",
    "    x += 1\n",
    "print(\"End\")"
   ]
  },
  {
   "cell_type": "code",
   "execution_count": null,
   "id": "cfae2c7c-b657-43ce-91c5-9cc3375fdd73",
   "metadata": {},
   "outputs": [],
   "source": []
  },
  {
   "cell_type": "code",
   "execution_count": null,
   "id": "2fade5a5-8d25-446a-99c4-1054a8019043",
   "metadata": {},
   "outputs": [],
   "source": [
    "#continue statement"
   ]
  },
  {
   "cell_type": "code",
   "execution_count": 5,
   "id": "e224d807-77b7-4be8-97cf-598084bdf273",
   "metadata": {},
   "outputs": [
    {
     "name": "stdout",
     "output_type": "stream",
     "text": [
      "Current Letter : P\n",
      "Current Letter : y\n",
      "Current Letter : t\n",
      "Current Letter : o\n",
      "Current Letter : n\n"
     ]
    }
   ],
   "source": [
    "for letter in \"Python\":\n",
    " # continue when letter is 'h'\n",
    " if letter == \"h\":\n",
    "     continue\n",
    " print(\"Current Letter :\", letter)"
   ]
  },
  {
   "cell_type": "code",
   "execution_count": null,
   "id": "707ad349-0c3d-46b3-bd0f-b442ff34f3cb",
   "metadata": {},
   "outputs": [],
   "source": []
  },
  {
   "cell_type": "code",
   "execution_count": null,
   "id": "311aed6f-3c20-4b47-9fce-b9a2cbbd94d3",
   "metadata": {},
   "outputs": [],
   "source": [
    "#lists"
   ]
  },
  {
   "cell_type": "code",
   "execution_count": 7,
   "id": "c2d3ddec-008c-46a5-92f0-a731059de0fa",
   "metadata": {},
   "outputs": [
    {
     "name": "stdout",
     "output_type": "stream",
     "text": [
      "list1[0]:  physics\n",
      "list2[1:5]:  [2, 3, 4, 5]\n"
     ]
    }
   ],
   "source": [
    "list1 = ['physics', 'chemistry', 1997, 2000];\n",
    "list2 = [1, 2, 3, 4, 5, 6, 7 ];\n",
    "print (\"list1[0]: \", list1[0])\n",
    "print (\"list2[1:5]: \", list2[1:5])"
   ]
  },
  {
   "cell_type": "code",
   "execution_count": null,
   "id": "14cee716-d41b-44e4-ae76-84c53a276536",
   "metadata": {},
   "outputs": [],
   "source": []
  },
  {
   "cell_type": "code",
   "execution_count": null,
   "id": "9260f534-1896-4995-98e4-5c0ac7848fa8",
   "metadata": {},
   "outputs": [],
   "source": [
    "#updating lists"
   ]
  },
  {
   "cell_type": "code",
   "execution_count": 9,
   "id": "e438d99e-159f-4f7d-8d1f-37a6ff99ccdc",
   "metadata": {},
   "outputs": [
    {
     "name": "stdout",
     "output_type": "stream",
     "text": [
      "Value available at index 2 : \n",
      "1997\n",
      "New value available at index 2 : \n",
      "2001\n"
     ]
    }
   ],
   "source": [
    "list = ['physics', 'chemistry', 1997, 2000];\n",
    "print (\"Value available at index 2 : \")\n",
    "print (list[2])\n",
    "list[2] = 2001;\n",
    "print (\"New value available at index 2 : \")\n",
    "print (list[2])\n"
   ]
  },
  {
   "cell_type": "code",
   "execution_count": null,
   "id": "4a93ac37-697f-444e-8f20-29cd2da7033e",
   "metadata": {},
   "outputs": [],
   "source": []
  },
  {
   "cell_type": "code",
   "execution_count": null,
   "id": "e3591cd6-fb8b-48f5-8465-595ae243c360",
   "metadata": {},
   "outputs": [],
   "source": [
    "#deleting list elements"
   ]
  },
  {
   "cell_type": "code",
   "execution_count": 11,
   "id": "3305b47e-d62c-4ef1-a2fc-90c4b02e753d",
   "metadata": {},
   "outputs": [
    {
     "name": "stdout",
     "output_type": "stream",
     "text": [
      "['physics', 'chemistry', 1997, 2000]\n",
      "After deleting value at index 2 : \n",
      "['physics', 'chemistry', 2000]\n"
     ]
    }
   ],
   "source": [
    "list1 = ['physics', 'chemistry', 1997, 2000];\n",
    "print (list1)\n",
    "del list1[2];\n",
    "print (\"After deleting value at index 2 : \")\n",
    "print (list1)\n"
   ]
  },
  {
   "cell_type": "code",
   "execution_count": null,
   "id": "aa0791a6-f289-4cf7-9e85-2a95c8b7f48d",
   "metadata": {},
   "outputs": [],
   "source": []
  },
  {
   "cell_type": "code",
   "execution_count": null,
   "id": "e1a09f10-45dd-4eff-b23a-3c207a717b14",
   "metadata": {},
   "outputs": [],
   "source": [
    "#Accessing Values in Tuples"
   ]
  },
  {
   "cell_type": "code",
   "execution_count": 13,
   "id": "57de305c-492c-49ce-aa44-38aaf5a5a5cd",
   "metadata": {},
   "outputs": [
    {
     "name": "stdout",
     "output_type": "stream",
     "text": [
      "tup1[0]:  physics\n",
      "tup2[1:5]:  (2, 3, 4, 5)\n"
     ]
    }
   ],
   "source": [
    "tup1 = ('physics', 'chemistry', 1997, 2000);\n",
    "tup2 = (1, 2, 3, 4, 5, 6, 7 );\n",
    "print (\"tup1[0]: \", tup1[0]);\n",
    "print (\"tup2[1:5]: \", tup2[1:5]);"
   ]
  },
  {
   "cell_type": "code",
   "execution_count": null,
   "id": "3d38dff8-6ebe-4927-a54f-c45eb4cc54c8",
   "metadata": {},
   "outputs": [],
   "source": []
  },
  {
   "cell_type": "code",
   "execution_count": null,
   "id": "7c807473-b9cd-44fc-b635-93526fdcb40a",
   "metadata": {},
   "outputs": [],
   "source": [
    "#dictionaries"
   ]
  },
  {
   "cell_type": "code",
   "execution_count": 15,
   "id": "e042a177-a16a-4f8a-9756-6c8a8d8dde23",
   "metadata": {},
   "outputs": [
    {
     "name": "stdout",
     "output_type": "stream",
     "text": [
      "{'Fruit': ['Mango', 'Banana'], 'Flower': ['Rose', 'Lotus']}\n",
      "{'India, USA': 'Countries', ('New Delhi', 'New York'): 'Capitals'}\n"
     ]
    }
   ],
   "source": [
    "d1 = {\"Fruit\":[\"Mango\",\"Banana\"], \"Flower\":[\"Rose\", \"Lotus\"]}\n",
    "d2 = {('India, USA'):'Countries', ('New Delhi', 'New York'):'Capitals'}\n",
    "print (d1)\n",
    "print (d2)\n"
   ]
  },
  {
   "cell_type": "code",
   "execution_count": null,
   "id": "04d359d9-ce58-4e3c-a196-31d6d61dc936",
   "metadata": {},
   "outputs": [],
   "source": []
  },
  {
   "cell_type": "code",
   "execution_count": 17,
   "id": "755c4c43-7e44-4cf3-aa2c-1b9a6e0fe340",
   "metadata": {},
   "outputs": [
    {
     "name": "stdout",
     "output_type": "stream",
     "text": [
      "Dictionary using curly braces: {'Name': 'Sachin Tendulkar', 'Age': 48, 'Sport': 'Cricket'}\n",
      "Dictionary using dict(): {'name': 'Alice', 'age': 21, 'major': 'Computer Science'}\n"
     ]
    }
   ],
   "source": [
    "sports_player = {\n",
    " \"Name\": \"Sachin Tendulkar\",\n",
    " \"Age\": 48,\n",
    " \"Sport\": \"Cricket\"\n",
    "}\n",
    "print (\"Dictionary using curly braces:\", sports_player)\n",
    "# Creating a dictionary using the dict() function\n",
    "student_info = dict(name=\"Alice\", age=21, major=\"Computer Science\")\n",
    "print(\"Dictionary using dict():\",student_info) "
   ]
  },
  {
   "cell_type": "code",
   "execution_count": null,
   "id": "4bcaaa39-ee98-4caf-ad27-12efa192b92f",
   "metadata": {},
   "outputs": [],
   "source": []
  },
  {
   "cell_type": "code",
   "execution_count": null,
   "id": "9549d804-6540-442f-ab0d-98bf1ddc7987",
   "metadata": {},
   "outputs": [],
   "source": [
    "#accessing values"
   ]
  },
  {
   "cell_type": "code",
   "execution_count": 19,
   "id": "cbad5d04-dfe2-4a15-89e9-1ffb1d6ee8c4",
   "metadata": {},
   "outputs": [
    {
     "name": "stdout",
     "output_type": "stream",
     "text": [
      "Name: Alice\n",
      "Age: 21\n"
     ]
    }
   ],
   "source": [
    "student_info = {\n",
    " \"name\": \"Alice\",\n",
    " \"age\": 21,\n",
    " \"major\": \"Computer Science\"\n",
    "}\n",
    "# Accessing values using square brackets\n",
    "name = student_info[\"name\"]\n",
    "print(\"Name:\",name)\n",
    "# Accessing values using the get() method\n",
    "age = student_info.get(\"age\")\n",
    "print(\"Age:\",age) "
   ]
  },
  {
   "cell_type": "code",
   "execution_count": null,
   "id": "e904a5e1-399b-4d2c-ae25-0bbfc266a41c",
   "metadata": {},
   "outputs": [],
   "source": []
  },
  {
   "cell_type": "code",
   "execution_count": null,
   "id": "577b6b7a-34c5-4052-bbad-0ade6c67c8cb",
   "metadata": {},
   "outputs": [],
   "source": [
    "#moddifying dictionaries "
   ]
  },
  {
   "cell_type": "code",
   "execution_count": 21,
   "id": "3b66a312-2c43-42cf-869c-57b0b774c5e1",
   "metadata": {},
   "outputs": [
    {
     "name": "stdout",
     "output_type": "stream",
     "text": [
      "The modified dictionary is: {'name': 'Alice', 'age': 22, 'major': 'Computer Science', 'graduation_year': 2023}\n"
     ]
    }
   ],
   "source": [
    "student_info = {\n",
    " \"name\": \"Alice\",\n",
    " \"age\": 21,\n",
    " \"major\": \"Computer Science\"\n",
    "}\n",
    "# Modifying an existing key-value pair\n",
    "student_info[\"age\"] = 22\n",
    "# Adding a new key-value pair\n",
    "student_info[\"graduation_year\"] = 2023\n",
    "print(\"The modified dictionary is:\",student_info)"
   ]
  },
  {
   "cell_type": "code",
   "execution_count": null,
   "id": "2c075b26-b56f-43b3-ac54-a189906a0df3",
   "metadata": {},
   "outputs": [],
   "source": []
  },
  {
   "cell_type": "code",
   "execution_count": null,
   "id": "73f53feb-7b9c-4b58-b3c8-9d1da44e2e4f",
   "metadata": {},
   "outputs": [],
   "source": [
    "#removing dictionary items "
   ]
  },
  {
   "cell_type": "code",
   "execution_count": 27,
   "id": "c12d911c-9c93-4e53-8810-f9529e521d97",
   "metadata": {},
   "outputs": [
    {
     "name": "stdout",
     "output_type": "stream",
     "text": [
      "{'name': 'Alice', 'age': 22}\n"
     ]
    }
   ],
   "source": [
    "# Defining the student_info dictionary\n",
    "student_info = {\n",
    "    \"name\": \"Alice\",\n",
    "    \"age\": 22,\n",
    "    \"major\": \"Computer Science\",\n",
    "    \"graduation_year\": 2023\n",
    "}\n",
    "\n",
    "# Removing an item using the del statement\n",
    "del student_info[\"major\"]\n",
    "\n",
    "# Removing an item using the pop() method\n",
    "graduation_year = student_info.pop(\"graduation_year\")\n",
    "\n",
    "# Printing the remaining items in the dictionary\n",
    "print(student_info)"
   ]
  },
  {
   "cell_type": "code",
   "execution_count": null,
   "id": "8eb592d4-8332-42b6-b6a1-af7c2f3084b9",
   "metadata": {},
   "outputs": [],
   "source": []
  },
  {
   "cell_type": "code",
   "execution_count": null,
   "id": "882409f2-0f61-4769-a729-ecf471ebd169",
   "metadata": {},
   "outputs": [],
   "source": [
    "#iterating through dictionaries "
   ]
  },
  {
   "cell_type": "code",
   "execution_count": 29,
   "id": "0fda97c0-9958-43a2-892b-b0fd03698756",
   "metadata": {},
   "outputs": [
    {
     "name": "stdout",
     "output_type": "stream",
     "text": [
      "Keys: name Alice\n",
      "Keys: age 22\n",
      "Keys: major Computer Science\n",
      "Keys: graduation_year 2023\n",
      "Values: Alice\n",
      "Values: 22\n",
      "Values: Computer Science\n",
      "Values: 2023\n",
      "Key:Value: name Alice\n",
      "Key:Value: age 22\n",
      "Key:Value: major Computer Science\n",
      "Key:Value: graduation_year 2023\n"
     ]
    }
   ],
   "source": [
    "student_info = {\n",
    " \"name\": \"Alice\",\n",
    " \"age\": 22,\n",
    " \"major\": \"Computer Science\",\n",
    " \"graduation_year\": 2023\n",
    "}\n",
    "# Iterating through keys\n",
    "for key in student_info:\n",
    " print(\"Keys:\",key, student_info[key])\n",
    "# Iterating through values\n",
    "for value in student_info.values():\n",
    " print(\"Values:\",value)\n",
    "# Iterating through key-value pairs\n",
    "for key, value in student_info.items():\n",
    " print(\"Key:Value:\",key, value) "
   ]
  },
  {
   "cell_type": "code",
   "execution_count": null,
   "id": "99644a77-b2e2-41a6-b30d-5c974e7300a8",
   "metadata": {},
   "outputs": [],
   "source": []
  },
  {
   "cell_type": "code",
   "execution_count": null,
   "id": "52bbbfe2-b291-4413-b4f6-425e5f15f4df",
   "metadata": {},
   "outputs": [],
   "source": [
    "#class and objects"
   ]
  },
  {
   "cell_type": "code",
   "execution_count": 37,
   "id": "cdbba82f-2ce4-470e-869f-5941bfef4e5d",
   "metadata": {},
   "outputs": [
    {
     "name": "stdout",
     "output_type": "stream",
     "text": [
      "Smartphone of Samsung supports Android 14\n"
     ]
    }
   ],
   "source": [
    "# defining class\n",
    "class Smartphone:\n",
    "    # constructor\n",
    "    def __init__(self, device, brand):\n",
    "        self.device = device\n",
    "        self.brand = brand\n",
    "\n",
    "    # method of the class\n",
    "    def description(self):\n",
    "        return f\"{self.device} of {self.brand} supports Android 14\"\n",
    "\n",
    "# creating object of the class\n",
    "phoneObj = Smartphone(\"Smartphone\", \"Samsung\")\n",
    "print(phoneObj.description())"
   ]
  },
  {
   "cell_type": "code",
   "execution_count": null,
   "id": "2d7d26c7-1b63-4b45-bc73-30898f8d5ebc",
   "metadata": {},
   "outputs": [],
   "source": []
  },
  {
   "cell_type": "code",
   "execution_count": null,
   "id": "5f305de6-d3a2-4706-a1a4-042e7993385b",
   "metadata": {},
   "outputs": [],
   "source": [
    "#encapsulation "
   ]
  },
  {
   "cell_type": "code",
   "execution_count": 44,
   "id": "e332efc2-092e-4b59-aaa5-afe3b681e98e",
   "metadata": {},
   "outputs": [
    {
     "name": "stdout",
     "output_type": "stream",
     "text": [
      "Selling Price: 25000\n",
      "Selling Price: 25000\n",
      "Selling Price: 35000\n"
     ]
    }
   ],
   "source": [
    "class Desktop:\n",
    "    def __init__(self):\n",
    "        self.__max_price = 25000\n",
    "\n",
    "    def sell(self):\n",
    "        return f\"Selling Price: {self.__max_price}\"\n",
    "\n",
    "    def set_max_price(self, price):\n",
    "        if price > self.__max_price:\n",
    "            self.__max_price = price\n",
    "\n",
    "# Object\n",
    "desktopObj = Desktop()\n",
    "print(desktopObj.sell())\n",
    "\n",
    "# Attempting to modify the price directly (this will not work as expected)\n",
    "desktopObj.__max_price = 35000\n",
    "print(desktopObj.sell())  # This will still show the original price\n",
    "\n",
    "# Modifying the price using setter function\n",
    "desktopObj.set_max_price(35000)\n",
    "print(desktopObj.sell())"
   ]
  },
  {
   "cell_type": "code",
   "execution_count": null,
   "id": "6e10b947-e5b3-47c6-b3f0-9a6a45bad5ec",
   "metadata": {},
   "outputs": [],
   "source": []
  },
  {
   "cell_type": "code",
   "execution_count": null,
   "id": "a63623ed-81ef-4c9b-a6d5-a293bf716186",
   "metadata": {},
   "outputs": [],
   "source": [
    "#inheritance"
   ]
  },
  {
   "cell_type": "code",
   "execution_count": 46,
   "id": "0d16b547-a5c5-4931-a8f5-eb2f31ea71ac",
   "metadata": {},
   "outputs": [
    {
     "name": "stdout",
     "output_type": "stream",
     "text": [
      "Calling parent constructor\n",
      "Calling child constructor\n",
      "Calling child method\n",
      "Calling parent method\n",
      "Parent attribute: 200\n"
     ]
    }
   ],
   "source": [
    "#!/usr/bin/python\n",
    "# define parent class\n",
    "class Parent:\n",
    "    parentAttr = 100\n",
    "\n",
    "    def __init__(self):\n",
    "        print(\"Calling parent constructor\")\n",
    "\n",
    "    def parentMethod(self):\n",
    "        print(\"Calling parent method\")\n",
    "\n",
    "    def setAttr(self, attr):\n",
    "        Parent.parentAttr = attr\n",
    "\n",
    "    def getAttr(self):\n",
    "        print(\"Parent attribute:\", Parent.parentAttr)\n",
    "\n",
    "# define child class\n",
    "class Child(Parent):\n",
    "    def __init__(self):\n",
    "        super().__init__()  # Call the parent constructor\n",
    "        print(\"Calling child constructor\")\n",
    "\n",
    "    def childMethod(self):\n",
    "        print(\"Calling child method\")\n",
    "\n",
    "# instance of child\n",
    "c = Child()\n",
    "\n",
    "# child calls its method\n",
    "c.childMethod()\n",
    "\n",
    "# calls parent's method\n",
    "c.parentMethod()\n",
    "\n",
    "# set new attribute value in parent\n",
    "c.setAttr(200)\n",
    "\n",
    "# get the updated attribute value from parent\n",
    "c.getAttr()"
   ]
  },
  {
   "cell_type": "code",
   "execution_count": null,
   "id": "e111302c-73c7-45c8-82c2-d1211416c2cb",
   "metadata": {},
   "outputs": [],
   "source": []
  },
  {
   "cell_type": "code",
   "execution_count": null,
   "id": "1927d961-b6e4-4863-bc9b-4835f6429168",
   "metadata": {},
   "outputs": [],
   "source": [
    "#polymorphism "
   ]
  },
  {
   "cell_type": "code",
   "execution_count": 50,
   "id": "a13a1dac-0b43-4af0-b159-54e695df00e8",
   "metadata": {},
   "outputs": [
    {
     "name": "stdout",
     "output_type": "stream",
     "text": [
      "Calling child method\n"
     ]
    }
   ],
   "source": [
    "# define parent class\n",
    "class Parent:\n",
    "    def myMethod(self):\n",
    "        print(\"Calling parent method\")\n",
    "\n",
    "# define child class\n",
    "class Child(Parent):\n",
    "    def myMethod(self):\n",
    "        print(\"Calling child method\")\n",
    "\n",
    "# instance of child\n",
    "c = Child()\n",
    "# child calls overridden method\n",
    "c.myMethod()"
   ]
  },
  {
   "cell_type": "code",
   "execution_count": null,
   "id": "4ef7140d-8fc8-4d31-80e5-c5f2dd336a4f",
   "metadata": {},
   "outputs": [],
   "source": []
  },
  {
   "cell_type": "code",
   "execution_count": null,
   "id": "b7416b53-c15b-440c-8800-85c1bf215755",
   "metadata": {},
   "outputs": [],
   "source": [
    "#Overloading Operators in Python"
   ]
  },
  {
   "cell_type": "code",
   "execution_count": 56,
   "id": "97e551b0-8086-4209-ba9a-47e830b7c47b",
   "metadata": {},
   "outputs": [
    {
     "name": "stdout",
     "output_type": "stream",
     "text": [
      "Vector (7, 8)\n"
     ]
    }
   ],
   "source": [
    "class Vector:\n",
    " def __init__(self, a, b):\n",
    "    self.a = a\n",
    "    self.b = b\n",
    " def __str__(self):\n",
    "     return 'Vector (%d, %d)' % (self.a, self.b)\n",
    "\n",
    " def __add__(self,other):\n",
    "     return Vector(self.a + other.a, self.b + other.b)\n",
    "v1 = Vector(2,10)\n",
    "v2 = Vector(5,-2)\n",
    "print (v1 + v2)"
   ]
  },
  {
   "cell_type": "code",
   "execution_count": null,
   "id": "8deff633-6a0f-4d86-b01b-7862049b690d",
   "metadata": {},
   "outputs": [],
   "source": []
  },
  {
   "cell_type": "code",
   "execution_count": null,
   "id": "513411ff-081b-4fa4-aa16-314bac793170",
   "metadata": {},
   "outputs": [],
   "source": []
  }
 ],
 "metadata": {
  "kernelspec": {
   "display_name": "Python 3 (ipykernel)",
   "language": "python",
   "name": "python3"
  },
  "language_info": {
   "codemirror_mode": {
    "name": "ipython",
    "version": 3
   },
   "file_extension": ".py",
   "mimetype": "text/x-python",
   "name": "python",
   "nbconvert_exporter": "python",
   "pygments_lexer": "ipython3",
   "version": "3.12.4"
  }
 },
 "nbformat": 4,
 "nbformat_minor": 5
}
